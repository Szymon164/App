{
 "cells": [
  {
   "cell_type": "code",
   "execution_count": 20,
   "metadata": {},
   "outputs": [],
   "source": [
    "import pandas as pd\n",
    "import numpy as np\n",
    "import matplotlib.pyplot as plt\n",
    "from sklearn.model_selection import train_test_split\n",
    "from sklearn.preprocessing import MinMaxScaler, Binarizer\n",
    "from sklearn.pipeline import Pipeline\n",
    "\n",
    "from sklearn.metrics import mean_absolute_error\n",
    "from sklearn.ensemble import RandomForestRegressor\n",
    "from sklearn.linear_model import LassoCV\n",
    "\n",
    "import joblib\n",
    "\n",
    "from feature_engine.imputation import AddMissingIndicator,MeanMedianImputer, CategoricalImputer\n",
    "from feature_engine.encoding import RareLabelEncoder,OrdinalEncoder\n",
    "from feature_engine.creation import RelativeFeatures\n",
    "from feature_engine.transformation import LogTransformer, YeoJohnsonTransformer\n",
    "from feature_engine.wrappers import SklearnTransformerWrapper\n",
    "from preprocessors import Mapper"
   ]
  },
  {
   "cell_type": "code",
   "execution_count": 21,
   "metadata": {},
   "outputs": [],
   "source": [
    "data = pd.read_csv('../data/train.csv')\n",
    "data.drop('Id', axis=1, inplace=True)\n",
    "X_train, X_test, y_train, y_test = train_test_split(data.drop(['SalePrice'], axis=1), data['SalePrice'], test_size=0.1, random_state=0,)\n",
    "y_train = np.log(y_train)\n",
    "X_train[['MSSubClass']] = X_train[['MSSubClass']].astype('O')\n",
    "y_test = np.log(y_test)\n",
    "X_test[['MSSubClass']] = X_test[['MSSubClass']].astype('O')"
   ]
  },
  {
   "cell_type": "code",
   "execution_count": 22,
   "metadata": {},
   "outputs": [],
   "source": [
    "MISSING=['Alley', 'FireplaceQu', 'PoolQC', 'Fence', 'MiscFeature']\n",
    "FREQUENT = ['MasVnrType',\n",
    " 'BsmtQual',\n",
    " 'BsmtCond',\n",
    " 'BsmtExposure',\n",
    " 'BsmtFinType1',\n",
    " 'BsmtFinType2',\n",
    " 'Electrical',\n",
    " 'GarageType',\n",
    " 'GarageFinish',\n",
    " 'GarageQual',\n",
    " 'GarageCond']\n",
    "MISSING_INDICATOR = ['LotFrontage', 'MasVnrArea', 'GarageYrBlt']\n",
    "MEAN = ['LotFrontage', 'MasVnrArea', 'GarageYrBlt']\n",
    "TEMPORAL_VARIABLE = ['YrSold']\n",
    "TEMPORAL_REFERENCE = ['YearBuilt', 'YearRemodAdd', 'GarageYrBlt']\n",
    "LOG_VARS = [\"LotFrontage\", \"1stFlrSF\", \"GrLivArea\"]\n",
    "YEO_JOHNSON_VAR=  ['LotArea']\n",
    "SKEWED=['BsmtFinSF2', 'LowQualFinSF', 'EnclosedPorch', '3SsnPorch', 'ScreenPorch', 'MiscVal']\n",
    "QUAL_MAPPINGS = {'Po': 1, 'Fa': 2, 'TA': 3, 'Gd': 4, 'Ex': 5, 'Missing': 0, 'NA': 0}\n",
    "QUAL_VARS = ['ExterQual', 'ExterCond', 'BsmtQual', 'BsmtCond','HeatingQC', \n",
    "            'KitchenQual', 'FireplaceQu','GarageQual', 'GarageCond',]\n",
    "EXPOSURE_MAPPINGS = {'No': 1, 'Mn': 2, 'Av': 3, 'Gd': 4}\n",
    "EXPOSURE_VAR= ['BsmtExposure']\n",
    "FINISH_MAPPINGS = {'Missing': 0, 'NA': 0, 'Unf': 1, 'LwQ': 2, 'Rec': 3, 'BLQ': 4, 'ALQ': 5, 'GLQ': 6}\n",
    "FINISH_VARS = ['BsmtFinType1', 'BsmtFinType2']\n",
    "GARAGE_MAPPINGS = {'Missing': 0, 'NA': 0, 'Unf': 1, 'RFn': 2, 'Fin': 3}\n",
    "GARAGE_VAR = ['GarageFinish']\n",
    "FENCE_MAPPINGS = {'Missing': 0, 'NA': 0, 'MnWw': 1, 'GdWo': 2, 'MnPrv': 3, 'GdPrv': 4}\n",
    "FENCE_VAR = ['Fence']\n",
    "RARE_LABELS = ['MSZoning',\n",
    " 'Street',\n",
    " 'Alley',\n",
    " 'LotShape',\n",
    " 'LandContour',\n",
    " 'Utilities',\n",
    " 'LotConfig',\n",
    " 'LandSlope',\n",
    " 'Neighborhood',\n",
    " 'Condition1',\n",
    " 'Condition2',\n",
    " 'BldgType',\n",
    " 'HouseStyle',\n",
    " 'RoofStyle',\n",
    " 'RoofMatl',\n",
    " 'Exterior1st',\n",
    " 'Exterior2nd',\n",
    " 'MasVnrType',\n",
    " 'Foundation',\n",
    " 'Heating',\n",
    " 'CentralAir',\n",
    " 'Electrical',\n",
    " 'Functional',\n",
    " 'GarageType',\n",
    " 'PavedDrive',\n",
    " 'PoolQC',\n",
    " 'MiscFeature',\n",
    " 'SaleType',\n",
    " 'SaleCondition',\n",
    " 'MSSubClass']\n"
   ]
  },
  {
   "cell_type": "code",
   "execution_count": 23,
   "metadata": {},
   "outputs": [],
   "source": [
    "pipe = Pipeline([('missing_imputer', CategoricalImputer(imputation_method='missing', variables=MISSING)),\n",
    "                ('frequent_inputer', CategoricalImputer(imputation_method='frequent', variables=FREQUENT)),\n",
    "                ('missing_indicator', AddMissingIndicator(variables=MISSING_INDICATOR)),\n",
    "                ('mean_imputer', MeanMedianImputer(variables=MEAN)),\n",
    "                ('temporal_feature', RelativeFeatures(variables=TEMPORAL_VARIABLE,reference=TEMPORAL_REFERENCE,func=['sub'])),\n",
    "                ('log_transformer', LogTransformer(variables=LOG_VARS)),\n",
    "                ('yeo_johnson_transformer', YeoJohnsonTransformer(variables=YEO_JOHNSON_VAR)),\n",
    "                ('binarizer', SklearnTransformerWrapper(transformer=Binarizer(threshold=0), variables=SKEWED)),\n",
    "                ('qual_mapper', Mapper(variables=QUAL_VARS,mappings=QUAL_MAPPINGS)),\n",
    "                ('exposure_mapper', Mapper(variables=EXPOSURE_VAR,mappings=EXPOSURE_MAPPINGS)),\n",
    "                ('finish_mapper', Mapper(variables=FINISH_VARS,mappings=FINISH_MAPPINGS)),\n",
    "                ('garage_mapper', Mapper(variables=GARAGE_VAR,mappings=GARAGE_MAPPINGS)),\n",
    "                ('fence_mapper', Mapper(variables=FENCE_VAR,mappings=FENCE_MAPPINGS)),\n",
    "                ('rare_encoder', RareLabelEncoder(tol=0.01, n_categories=1, variables=RARE_LABELS)),\n",
    "                ('categorical_encoder', OrdinalEncoder(encoding_method='ordered', variables=RARE_LABELS)),\n",
    "                ('scaler', MinMaxScaler()),\n",
    "                ('rf', RandomForestRegressor(random_state=0))\n",
    "                ])\n",
    "                \n"
   ]
  },
  {
   "cell_type": "code",
   "execution_count": 24,
   "metadata": {},
   "outputs": [
    {
     "name": "stdout",
     "output_type": "stream",
     "text": [
      "6525.135540300742\n"
     ]
    }
   ],
   "source": [
    "pipe.fit(X_train,y_train)\n",
    "print(mean_absolute_error(np.exp(pipe.predict(X_train)), np.exp(y_train)))"
   ]
  },
  {
   "cell_type": "code",
   "execution_count": 25,
   "metadata": {},
   "outputs": [
    {
     "name": "stdout",
     "output_type": "stream",
     "text": [
      "16698.410369944668\n"
     ]
    }
   ],
   "source": [
    "pred=np.exp(pipe.predict(X_test))\n",
    "print(mean_absolute_error(pred, np.exp(y_test)))"
   ]
  }
 ],
 "metadata": {
  "kernelspec": {
   "display_name": "Python 3.8.10 ('.venv': venv)",
   "language": "python",
   "name": "python3"
  },
  "language_info": {
   "codemirror_mode": {
    "name": "ipython",
    "version": 3
   },
   "file_extension": ".py",
   "mimetype": "text/x-python",
   "name": "python",
   "nbconvert_exporter": "python",
   "pygments_lexer": "ipython3",
   "version": "3.8.10"
  },
  "orig_nbformat": 4,
  "vscode": {
   "interpreter": {
    "hash": "28989b983bf91aaee301737472e23551783483352317ad327a7562ef8f66a652"
   }
  }
 },
 "nbformat": 4,
 "nbformat_minor": 2
}
